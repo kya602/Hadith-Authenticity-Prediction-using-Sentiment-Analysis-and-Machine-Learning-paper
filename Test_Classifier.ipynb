{
 "cells": [
  {
   "cell_type": "code",
   "execution_count": 36,
   "metadata": {},
   "outputs": [],
   "source": [
    "import re\n",
    "from string import digits\n",
    "import joblib\n",
    "\n",
    "\n",
    "def preprocess(text):\n",
    "    custom_stop_words = ['Tell', 'Tell us', 'Narrated', 'Messenger', 'Prophet', 'Allah', 'God', 'Lord', 'Allaah', 'He',\n",
    "                         'She', 'A', 'They', '(h)', 'We', 'It']\n",
    "\n",
    "    text = ' '.join([word for word in text.split() if word not in custom_stop_words])  # removing stop words\n",
    "    text = text.translate(str.maketrans('', '', digits))  # removing digits \n",
    "    \n",
    "    # Capturing the Isnad only\n",
    "    res = re.search(r'[-.\"}{?]',text)\n",
    "    if res is not None:\n",
    "        separator = res.group()\n",
    "        head, sep, tail = text.partition(separator)\n",
    "        return head\n",
    "    else:\n",
    "        return text\n",
    "\n",
    "\n",
    "\n",
    "def tokenization(text):\n",
    "\n",
    "    pattern = re.compile(r\"((ar-|al-)?[A-Z][A-Za-z-']+)\\s?(bin\\s|ibn\\s|binte\\s|bint\\s)?((al-|ar-)?([A-Z][A-Za-z-']+\\s?)|(bin\\s|ibn\\s|binte\\s|bint\\s))*\")\n",
    "\n",
    "    matches = pattern.finditer(text)\n",
    "\n",
    "    tokens = []\n",
    "\n",
    "    for match in matches:\n",
    "        tokens.append(match.group())\n",
    "\n",
    "    return tokens\n"
   ]
  },
  {
   "cell_type": "code",
   "execution_count": 37,
   "metadata": {},
   "outputs": [],
   "source": [
    "classifier_1 = joblib.load('lin-svc.pkl')\n",
    "classifier_2 = joblib.load('log-reg.pkl')"
   ]
  },
  {
   "cell_type": "code",
   "execution_count": 40,
   "metadata": {},
   "outputs": [],
   "source": [
    "def testHadith(text):\n",
    "    \n",
    "    x = int(classifier_2.predict(text))\n",
    "    \n",
    "    if x==1:\n",
    "        print(\"\\nRejected\\n\")\n",
    "    elif x==0:\n",
    "        print(\"\\nAccepted\\n\")\n",
    "    else:\n",
    "        print(\"\\nNone\\n\")\n",
    "\n",
    "    i = 1- float(classifier_2.predict_proba(text)[:,1])\n",
    "    print(\"%.1f%%\" % (100 * i))"
   ]
  },
  {
   "cell_type": "markdown",
   "metadata": {},
   "source": [
    "Testing a Hadith"
   ]
  },
  {
   "cell_type": "code",
   "execution_count": 50,
   "metadata": {
    "scrolled": false
   },
   "outputs": [
    {
     "name": "stdout",
     "output_type": "stream",
     "text": [
      "Tell us Amr bin Ali, said to us Yahya bin Said, said to us Division, said to us Abu Ishaq, h and told us Amr ibn Ali, said to us Yahya bin Said, said to us Sufian, he said, told me Abu Ishaq, for Haritha bin Wahab, said upon us Messenger Allah (peace and blessings of Allaah be upon him) made more sins than people had and their rak'ahs were safe.\n",
      "\n",
      "Accepted\n",
      "\n",
      "56.2%\n"
     ]
    }
   ],
   "source": [
    "text = input()\n",
    "t = []\n",
    "t.append(text)\n",
    "testHadith(t)"
   ]
  },
  {
   "cell_type": "code",
   "execution_count": null,
   "metadata": {},
   "outputs": [],
   "source": []
  },
  {
   "cell_type": "code",
   "execution_count": null,
   "metadata": {},
   "outputs": [],
   "source": []
  },
  {
   "cell_type": "code",
   "execution_count": null,
   "metadata": {},
   "outputs": [],
   "source": []
  }
 ],
 "metadata": {
  "kernelspec": {
   "display_name": "Python 3",
   "language": "python",
   "name": "python3"
  },
  "language_info": {
   "codemirror_mode": {
    "name": "ipython",
    "version": 3
   },
   "file_extension": ".py",
   "mimetype": "text/x-python",
   "name": "python",
   "nbconvert_exporter": "python",
   "pygments_lexer": "ipython3",
   "version": "3.7.4"
  }
 },
 "nbformat": 4,
 "nbformat_minor": 2
}
